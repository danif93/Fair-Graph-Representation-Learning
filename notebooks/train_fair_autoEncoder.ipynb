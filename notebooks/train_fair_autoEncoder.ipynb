{
 "cells": [
  {
   "cell_type": "code",
   "execution_count": null,
   "metadata": {},
   "outputs": [],
   "source": [
    "import os\n",
    "os.chdir('..')"
   ]
  },
  {
   "cell_type": "code",
   "execution_count": null,
   "metadata": {},
   "outputs": [],
   "source": [
    "from fair_graphs.launchers.launch_fap import optim_fairAutoEncoder"
   ]
  },
  {
   "cell_type": "code",
   "execution_count": null,
   "metadata": {},
   "outputs": [],
   "source": [
    "lambdas = [1, 1e-1, 1e-2, 1e-3]\n",
    "num_splits = 30"
   ]
  },
  {
   "cell_type": "code",
   "execution_count": null,
   "metadata": {},
   "outputs": [],
   "source": [
    "import matplotlib.pyplot as plt\n",
    "\n",
    "def print_scatter(mses_dp, fair_losses_dp,\n",
    "                  mses_eo0, fair_losses_eo0,\n",
    "                  mses_eo1, fair_losses_eo1):\n",
    "    fig, axs = plt.subplots(1, 3, figsize=(15, 5), constrained_layout = True)\n",
    "\n",
    "    for ic, color in enumerate(['blue', 'orange', 'green', 'red']):\n",
    "        axs[0].scatter(mses_dp[ic], fair_losses_dp[ic], c=color, s=200, label='lambda =' + str(lambdas[ic]),\n",
    "                alpha=0.9, edgecolors='none')\n",
    "        axs[1].scatter(mses_eo0[ic], fair_losses_eo0[ic], c=color, s=200, label='lambda =' + str(lambdas[ic]),\n",
    "                alpha=0.9, edgecolors='none')\n",
    "        axs[2].scatter(mses_eo1[ic], fair_losses_eo1[ic], c=color, s=200, label='lambda =' + str(lambdas[ic]),\n",
    "                alpha=0.9, edgecolors='none')\n",
    "\n",
    "    axs[0].set(xlabel='MSE', ylabel='DP')\n",
    "    axs[1].set(xlabel='MSE', ylabel='EO-')\n",
    "    axs[2].set(xlabel='MSE', ylabel='EO+')\n",
    "    axs[0].legend()\n",
    "    axs[1].legend()\n",
    "    axs[2].legend()\n",
    "    plt.show()"
   ]
  },
  {
   "attachments": {},
   "cell_type": "markdown",
   "metadata": {},
   "source": [
    "## German"
   ]
  },
  {
   "cell_type": "code",
   "execution_count": null,
   "metadata": {},
   "outputs": [],
   "source": [
    "from fair_graphs.datasets.graph_datasets import GermanData\n",
    "                                                 \n",
    "data = GermanData(sensitive_attribute = 'Gender',\n",
    "                  target_attribute = 'GoodCustomer',\n",
    "                  include_sensitive = True,\n",
    "                  num_samples = 0,\n",
    "                  pre_scale_features = False)\n",
    "\n",
    "data.samples.shape, data.sensitive.shape, data.labels.shape, data.adj_mtx"
   ]
  },
  {
   "cell_type": "code",
   "execution_count": null,
   "metadata": {},
   "outputs": [],
   "source": [
    "mses_dp, fair_losses_dp = optim_fairAutoEncoder(num_splits = num_splits,\n",
    "                                                data = data,\n",
    "                                                lambdas = lambdas,\n",
    "                                                metric = 'dp')"
   ]
  },
  {
   "cell_type": "code",
   "execution_count": null,
   "metadata": {},
   "outputs": [],
   "source": [
    "mses_eo0, fair_losses_eo0 = optim_fairAutoEncoder(num_splits = num_splits,\n",
    "                                                  data = data,\n",
    "                                                  lambdas = lambdas,\n",
    "                                                  metric = 'eo',\n",
    "                                                  pos = 0)"
   ]
  },
  {
   "cell_type": "code",
   "execution_count": null,
   "metadata": {},
   "outputs": [],
   "source": [
    "mses_eo1, fair_losses_eo1 = optim_fairAutoEncoder(num_splits = num_splits,\n",
    "                                                  data = data,\n",
    "                                                  lambdas = lambdas,\n",
    "                                                  metric = 'eo',\n",
    "                                                  pos = 1)"
   ]
  },
  {
   "cell_type": "code",
   "execution_count": null,
   "metadata": {},
   "outputs": [],
   "source": [
    "print_scatter(mses_dp, fair_losses_dp,\n",
    "              mses_eo0, fair_losses_eo0,\n",
    "              mses_eo1, fair_losses_eo1)"
   ]
  },
  {
   "attachments": {},
   "cell_type": "markdown",
   "metadata": {},
   "source": [
    "## Bail"
   ]
  },
  {
   "cell_type": "code",
   "execution_count": null,
   "metadata": {},
   "outputs": [],
   "source": [
    "from fair_graphs.datasets.graph_datasets import BailData\n",
    "data = BailData(sensitive_attribute = 'WHITE',\n",
    "                  target_attribute = 'RECID',\n",
    "                  include_sensitive = True,\n",
    "                  num_samples = 0,\n",
    "                  pre_scale_features = False)\n",
    "\n",
    "data.samples.shape, data.sensitive.shape, data.labels.shape, data.adj_mtx"
   ]
  },
  {
   "cell_type": "code",
   "execution_count": null,
   "metadata": {},
   "outputs": [],
   "source": [
    "mses_dp, fair_losses_dp = optim_fairAutoEncoder(num_splits = num_splits,\n",
    "                                                data = data,\n",
    "                                                lambdas = lambdas,\n",
    "                                                metric = 'dp')"
   ]
  },
  {
   "cell_type": "code",
   "execution_count": null,
   "metadata": {},
   "outputs": [],
   "source": [
    "mses_eo0, fair_losses_eo0 = optim_fairAutoEncoder(num_splits = num_splits,\n",
    "                                                  data = data,\n",
    "                                                  lambdas = lambdas,\n",
    "                                                  metric = 'eo',\n",
    "                                                  pos = 0)"
   ]
  },
  {
   "cell_type": "code",
   "execution_count": null,
   "metadata": {},
   "outputs": [],
   "source": [
    "mses_eo1, fair_losses_eo1 = optim_fairAutoEncoder(num_splits = num_splits,\n",
    "                                                  data = data,\n",
    "                                                  lambdas = lambdas,\n",
    "                                                  metric = 'eo',\n",
    "                                                  pos = 1)"
   ]
  },
  {
   "cell_type": "code",
   "execution_count": null,
   "metadata": {},
   "outputs": [],
   "source": [
    "print_scatter(mses_dp, fair_losses_dp,\n",
    "              mses_eo0, fair_losses_eo0,\n",
    "              mses_eo1, fair_losses_eo1)"
   ]
  },
  {
   "attachments": {},
   "cell_type": "markdown",
   "metadata": {},
   "source": [
    "## Credit"
   ]
  },
  {
   "cell_type": "code",
   "execution_count": null,
   "metadata": {},
   "outputs": [],
   "source": [
    "from fair_graphs.datasets.graph_datasets import CreditData\n",
    "\n",
    "data = CreditData(sensitive_attribute = 'Age',\n",
    "                  target_attribute = 'NoDefaultNextMonth',\n",
    "                  include_sensitive = True,\n",
    "                  num_samples = 0,\n",
    "                  pre_scale_features = False)\n",
    "\n",
    "data.samples.shape, data.sensitive.shape, data.labels.shape, data.adj_mtx"
   ]
  },
  {
   "cell_type": "code",
   "execution_count": null,
   "metadata": {},
   "outputs": [],
   "source": [
    "mses_dp, fair_losses_dp = optim_fairAutoEncoder(num_splits = num_splits,\n",
    "                                                data = data,\n",
    "                                                lambdas = lambdas,\n",
    "                                                metric = 'dp')"
   ]
  },
  {
   "cell_type": "code",
   "execution_count": null,
   "metadata": {},
   "outputs": [],
   "source": [
    "mses_eo0, fair_losses_eo0 = optim_fairAutoEncoder(num_splits = num_splits,\n",
    "                                                  data = data,\n",
    "                                                  lambdas = lambdas,\n",
    "                                                  metric = 'eo',\n",
    "                                                  pos = 0)"
   ]
  },
  {
   "cell_type": "code",
   "execution_count": null,
   "metadata": {},
   "outputs": [],
   "source": [
    "mses_eo1, fair_losses_eo1 = optim_fairAutoEncoder(num_splits = num_splits,\n",
    "                                                  data = data,\n",
    "                                                  lambdas = lambdas,\n",
    "                                                  metric = 'eo',\n",
    "                                                  pos = 1)"
   ]
  },
  {
   "cell_type": "code",
   "execution_count": null,
   "metadata": {},
   "outputs": [],
   "source": [
    "print_scatter(mses_dp, fair_losses_dp,\n",
    "              mses_eo0, fair_losses_eo0,\n",
    "              mses_eo1, fair_losses_eo1)"
   ]
  },
  {
   "attachments": {},
   "cell_type": "markdown",
   "metadata": {},
   "source": [
    "## Pokec "
   ]
  },
  {
   "cell_type": "code",
   "execution_count": null,
   "metadata": {},
   "outputs": [],
   "source": [
    "from fair_graphs.datasets.graph_datasets import PokecData\n",
    "\n",
    "data = PokecData(sensitive_attribute='region', \n",
    "                 target_attribute='marital_status_indicator',\n",
    "                 include_sensitive=True, \n",
    "                 num_samples = 0, \n",
    "                 pre_scale_features=False)\n",
    "\n",
    "data.samples.shape, data.sensitive.shape, data.labels.shape, data.adj_mtx"
   ]
  },
  {
   "cell_type": "code",
   "execution_count": null,
   "metadata": {},
   "outputs": [],
   "source": [
    "mses_dp, fair_losses_dp = optim_fairAutoEncoder(num_splits = num_splits,\n",
    "                                                data = data,\n",
    "                                                lambdas = lambdas,\n",
    "                                                metric = 'dp',\n",
    "                                                train_percentage = .4)"
   ]
  },
  {
   "cell_type": "code",
   "execution_count": null,
   "metadata": {},
   "outputs": [],
   "source": [
    "mses_eo0, fair_losses_eo0 = optim_fairAutoEncoder(num_splits = num_splits,\n",
    "                                                  data = data,\n",
    "                                                  lambdas = lambdas,\n",
    "                                                  metric = 'eo',\n",
    "                                                  pos = 0,\n",
    "                                                  train_percentage = .4)"
   ]
  },
  {
   "cell_type": "code",
   "execution_count": null,
   "metadata": {},
   "outputs": [],
   "source": [
    "mses_eo1, fair_losses_eo1 = optim_fairAutoEncoder(num_splits = num_splits,\n",
    "                                                  data = data,\n",
    "                                                  lambdas = lambdas,\n",
    "                                                  metric = 'eo',\n",
    "                                                  pos = 1,\n",
    "                                                  train_percentage = .4)"
   ]
  },
  {
   "cell_type": "code",
   "execution_count": null,
   "metadata": {},
   "outputs": [],
   "source": [
    "print_scatter(mses_dp, fair_losses_dp,\n",
    "              mses_eo0, fair_losses_eo0,\n",
    "              mses_eo1, fair_losses_eo1)"
   ]
  },
  {
   "attachments": {},
   "cell_type": "markdown",
   "metadata": {},
   "source": [
    "## Facebook"
   ]
  },
  {
   "cell_type": "code",
   "execution_count": null,
   "metadata": {},
   "outputs": [],
   "source": [
    "from fair_graphs.datasets.graph_datasets import FacebookData\n",
    "\n",
    "data = FacebookData(sensitive_attribute='gender', \n",
    "                    target_attribute='egocircle',\n",
    "                    include_sensitive=True, \n",
    "                    num_samples=0)\n",
    "\n",
    "data.samples.shape, data.sensitive.shape, data.labels.shape, data.adj_mtx"
   ]
  },
  {
   "cell_type": "code",
   "execution_count": null,
   "metadata": {},
   "outputs": [],
   "source": [
    "mses_dp, fair_losses_dp = optim_fairAutoEncoder(num_splits = 1,\n",
    "                                                data = data,\n",
    "                                                lambdas = lambdas,\n",
    "                                                metric = 'dp')"
   ]
  },
  {
   "cell_type": "code",
   "execution_count": null,
   "metadata": {},
   "outputs": [],
   "source": [
    "mses_eo0, fair_losses_eo0 = optim_fairAutoEncoder(num_splits = num_splits,\n",
    "                                                  data = data,\n",
    "                                                  lambdas = lambdas,\n",
    "                                                  metric = 'eo',\n",
    "                                                  pos = 0)"
   ]
  },
  {
   "cell_type": "code",
   "execution_count": null,
   "metadata": {},
   "outputs": [],
   "source": [
    "mses_eo1, fair_losses_eo1 = optim_fairAutoEncoder(num_splits = num_splits,\n",
    "                                                  data = data,\n",
    "                                                  lambdas = lambdas,\n",
    "                                                  metric = 'eo',\n",
    "                                                  pos = 1)"
   ]
  },
  {
   "cell_type": "code",
   "execution_count": null,
   "metadata": {},
   "outputs": [],
   "source": [
    "print_scatter(mses_dp, fair_losses_dp,\n",
    "              mses_eo0, fair_losses_eo0,\n",
    "              mses_eo1, fair_losses_eo1)"
   ]
  },
  {
   "attachments": {},
   "cell_type": "markdown",
   "metadata": {},
   "source": [
    "## Google Plus"
   ]
  },
  {
   "cell_type": "code",
   "execution_count": null,
   "metadata": {},
   "outputs": [],
   "source": [
    "from fair_graphs.datasets.graph_datasets import GooglePlusData\n",
    "\n",
    "data = GooglePlusData(sensitive_attribute='gender', \n",
    "                      target_attribute='egocircle',\n",
    "                      include_sensitive=True, \n",
    "                      num_samples=0)\n",
    "\n",
    "data.samples.shape, data.sensitive.shape, data.labels.shape, data.adj_mtx"
   ]
  },
  {
   "cell_type": "code",
   "execution_count": null,
   "metadata": {},
   "outputs": [],
   "source": [
    "mses_dp, fair_losses_dp = optim_fairAutoEncoder(num_splits = num_splits,\n",
    "                                                data = data,\n",
    "                                                lambdas = lambdas,\n",
    "                                                metric = 'dp')"
   ]
  },
  {
   "cell_type": "code",
   "execution_count": null,
   "metadata": {},
   "outputs": [],
   "source": [
    "mses_eo0, fair_losses_eo0 = optim_fairAutoEncoder(num_splits = num_splits,\n",
    "                                                  data = data,\n",
    "                                                  lambdas = lambdas,\n",
    "                                                  metric = 'eo',\n",
    "                                                  pos = 0)"
   ]
  },
  {
   "cell_type": "code",
   "execution_count": null,
   "metadata": {},
   "outputs": [],
   "source": [
    "mses_eo1, fair_losses_eo1 = optim_fairAutoEncoder(num_splits = num_splits,\n",
    "                                                  data = data,\n",
    "                                                  lambdas = lambdas,\n",
    "                                                  metric = 'eo',\n",
    "                                                  pos = 1)"
   ]
  },
  {
   "cell_type": "code",
   "execution_count": null,
   "metadata": {},
   "outputs": [],
   "source": [
    "print_scatter(mses_dp, fair_losses_dp,\n",
    "              mses_eo0, fair_losses_eo0,\n",
    "              mses_eo1, fair_losses_eo1)"
   ]
  }
 ],
 "metadata": {
  "kernelspec": {
   "display_name": "Python 3 (ipykernel)",
   "language": "python",
   "name": "python3"
  },
  "language_info": {
   "codemirror_mode": {
    "name": "ipython",
    "version": 3
   },
   "file_extension": ".py",
   "mimetype": "text/x-python",
   "name": "python",
   "nbconvert_exporter": "python",
   "pygments_lexer": "ipython3",
   "version": "3.10.11"
  },
  "vscode": {
   "interpreter": {
    "hash": "944da42ad629eb5d4e1e3db5c173fd432c3d128b5d02040649b1e369ab3d2fbf"
   }
  }
 },
 "nbformat": 4,
 "nbformat_minor": 2
}
