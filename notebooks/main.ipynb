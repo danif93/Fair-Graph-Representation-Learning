{
 "cells": [
  {
   "cell_type": "code",
   "execution_count": null,
   "id": "d8c0bc77-ab4f-46b9-a73a-f44a753d272b",
   "metadata": {},
   "outputs": [],
   "source": [
    "import os\n",
    "os.chdir('..')"
   ]
  },
  {
   "attachments": {},
   "cell_type": "markdown",
   "id": "b7b0558d",
   "metadata": {},
   "source": [
    "# Download Data and Results"
   ]
  },
  {
   "cell_type": "code",
   "execution_count": null,
   "id": "2e5071dd",
   "metadata": {},
   "outputs": [],
   "source": [
    "%pip install gdown"
   ]
  },
  {
   "cell_type": "code",
   "execution_count": null,
   "id": "836bf441",
   "metadata": {},
   "outputs": [],
   "source": [
    "import gdown\n",
    "\n",
    "gdown.download(id='1CBwtoTRmNgY9Hbg_dUr2YOuY2YN-UE_Y', output='data.zip', quiet=False)\n",
    "# or from here: https://drive.google.com/file/d/1CBwtoTRmNgY9Hbg_dUr2YOuY2YN-UE_Y/view?usp=sharing\n",
    "gdown.download(id='1IjKUQh6yOrm-oUZHtSnBmQlKyBV-3k1v', output='results.zip', quiet=False)\n",
    "# or from here: https://drive.google.com/file/d/1IjKUQh6yOrm-oUZHtSnBmQlKyBV-3k1v/view?usp=sharing"
   ]
  },
  {
   "cell_type": "code",
   "execution_count": null,
   "id": "eb608c06",
   "metadata": {},
   "outputs": [],
   "source": [
    "import zipfile\n",
    "\n",
    "with zipfile.ZipFile('data.zip', 'r') as zip_ref:\n",
    "    zip_ref.extractall('./')\n",
    "with zipfile.ZipFile('results.zip', 'r') as zip_ref:\n",
    "    zip_ref.extractall('./')"
   ]
  },
  {
   "attachments": {},
   "cell_type": "markdown",
   "id": "ebce9871",
   "metadata": {},
   "source": [
    "# Store Init Models"
   ]
  },
  {
   "cell_type": "code",
   "execution_count": null,
   "id": "d440bfb1",
   "metadata": {},
   "outputs": [],
   "source": [
    "from fair_graphs.models.graph_models import SSF, Encoder"
   ]
  },
  {
   "attachments": {},
   "cell_type": "markdown",
   "id": "cb8acc5b",
   "metadata": {},
   "source": [
    "## German"
   ]
  },
  {
   "cell_type": "code",
   "execution_count": null,
   "id": "3d27c6e3",
   "metadata": {},
   "outputs": [],
   "source": [
    "from fair_graphs.datasets.graph_datasets import GermanData\n",
    "\n",
    "data = GermanData(sensitive_attribute = 'Gender',\n",
    "                  target_attribute = 'GoodCustomer',\n",
    "                  include_sensitive = True,\n",
    "                  num_samples = 0,\n",
    "                  pre_scale_features = False)\n",
    "data.samples.shape, data.sensitive.shape, data.labels.shape, data.adj_mtx.shape"
   ]
  },
  {
   "cell_type": "code",
   "execution_count": null,
   "id": "95aa0bd3",
   "metadata": {},
   "outputs": [],
   "source": [
    "enc_params = {'in_channels': data.samples.shape[1],\n",
    "                'out_channels': data.samples.shape[1],\n",
    "                'base_model': 'gcn'}\n",
    "\n",
    "fixed_params = {'num_hidden': data.samples.shape[1],\n",
    "                    'num_projection_hidden': data.samples.shape[1],\n",
    "                    'num_class': 1} \n",
    "\n",
    "enc = Encoder(**enc_params)\n",
    "net = SSF(enc, **fixed_params)\n",
    "net.save_state_dict(save_path='data/model_init',\n",
    "                    name_extension=f\"init_german{'_sensitiveFalse' if not data.include_sensitive else ''}\",\n",
    "                    device=None)"
   ]
  },
  {
   "attachments": {},
   "cell_type": "markdown",
   "id": "f3ccd946",
   "metadata": {},
   "source": [
    "## Bail"
   ]
  },
  {
   "cell_type": "code",
   "execution_count": null,
   "id": "dbb3e61e",
   "metadata": {},
   "outputs": [],
   "source": [
    "from fair_graphs.datasets.graph_datasets import BailData\n",
    "\n",
    "data = BailData(sensitive_attribute = 'WHITE',\n",
    "                target_attribute = 'RECID',\n",
    "                include_sensitive = True,\n",
    "                num_samples = 0,\n",
    "                pre_scale_features = False)\n",
    "\n",
    "data.samples.shape, data.sensitive.shape, data.labels.shape, data.adj_mtx.shape"
   ]
  },
  {
   "cell_type": "code",
   "execution_count": null,
   "id": "579a0eaf",
   "metadata": {},
   "outputs": [],
   "source": [
    "enc_params = {'in_channels': data.samples.shape[1],\n",
    "                'out_channels': data.samples.shape[1],\n",
    "                'base_model': 'gcn'}\n",
    "\n",
    "fixed_params = {'num_hidden': data.samples.shape[1],\n",
    "                    'num_projection_hidden': data.samples.shape[1],\n",
    "                    'num_class': 1} \n",
    "\n",
    "\n",
    "enc = Encoder(**enc_params)\n",
    "net = SSF(enc, **fixed_params)\n",
    "net.save_state_dict(save_path='data/model_init',\n",
    "                    name_extension=f\"init_bail{'_sensitiveFalse' if not data.include_sensitive else ''}\",\n",
    "                    device=None)"
   ]
  },
  {
   "attachments": {},
   "cell_type": "markdown",
   "id": "139b3f46",
   "metadata": {},
   "source": [
    "## Credit"
   ]
  },
  {
   "cell_type": "code",
   "execution_count": null,
   "id": "4953b3e9",
   "metadata": {},
   "outputs": [],
   "source": [
    "from fair_graphs.datasets.graph_datasets import CreditData\n",
    "\n",
    "data = CreditData(sensitive_attribute = 'Age',\n",
    "                  target_attribute = 'NoDefaultNextMonth',\n",
    "                  include_sensitive = True,\n",
    "                  num_samples = 0,\n",
    "                  pre_scale_features = False)\n",
    "\n",
    "data.samples.shape, data.sensitive.shape, data.labels.shape, data.adj_mtx.shape"
   ]
  },
  {
   "cell_type": "code",
   "execution_count": null,
   "id": "bd10ea4a",
   "metadata": {},
   "outputs": [],
   "source": [
    "enc_params = {'in_channels': data.samples.shape[1],\n",
    "                'out_channels': data.samples.shape[1],\n",
    "                'base_model': 'gcn'}\n",
    "\n",
    "fixed_params = {'num_hidden': data.samples.shape[1],\n",
    "                    'num_projection_hidden': data.samples.shape[1],\n",
    "                    'num_class': 1} \n",
    "\n",
    "\n",
    "enc = Encoder(**enc_params)\n",
    "net = SSF(enc, **fixed_params)\n",
    "net.save_state_dict(save_path='data/model_init',\n",
    "                    name_extension=f\"init_credit{'_sensitiveFalse' if not data.include_sensitive else ''}\",\n",
    "                    device=None)"
   ]
  },
  {
   "attachments": {},
   "cell_type": "markdown",
   "id": "2dbcd9aa",
   "metadata": {},
   "source": [
    "## Pokec"
   ]
  },
  {
   "cell_type": "code",
   "execution_count": null,
   "id": "2029710a",
   "metadata": {},
   "outputs": [],
   "source": [
    "from fair_graphs.datasets.graph_datasets import PokecData\n",
    "\n",
    "data = PokecData(sensitive_attribute = \"region\",\n",
    "                  target_attribute = 'marital_status_indicator',\n",
    "                  include_sensitive = True,\n",
    "                  num_samples = 0,\n",
    "                  pre_scale_features = False)\n",
    "\n",
    "data.samples.shape, data.sensitive.shape, data.labels.shape, data.adj_mtx.shape"
   ]
  },
  {
   "cell_type": "code",
   "execution_count": null,
   "id": "b6156d72",
   "metadata": {},
   "outputs": [],
   "source": [
    "enc_params = {'in_channels': data.samples.shape[1],\n",
    "                'out_channels': data.samples.shape[1],\n",
    "                'base_model': 'gcn'}\n",
    "\n",
    "fixed_params = {'num_hidden': data.samples.shape[1],\n",
    "                    'num_projection_hidden': data.samples.shape[1],\n",
    "                    'num_class': 1} \n",
    "\n",
    "enc = Encoder(**enc_params)\n",
    "net = SSF(enc, **fixed_params)\n",
    "net.save_state_dict(save_path='data/model_init',\n",
    "                    name_extension=f\"init_pokec{'_sensitiveFalse' if not data.include_sensitive else ''}\",\n",
    "                    device=None)"
   ]
  },
  {
   "attachments": {},
   "cell_type": "markdown",
   "id": "fc6bb64b",
   "metadata": {},
   "source": [
    "## Facebook"
   ]
  },
  {
   "cell_type": "code",
   "execution_count": null,
   "id": "e58fd99e",
   "metadata": {},
   "outputs": [],
   "source": [
    "from fair_graphs.datasets.graph_datasets import FacebookData\n",
    "\n",
    "data = FacebookData(sensitive_attribute = \"gender\",\n",
    "                    target_attribute = 'egocircle',\n",
    "                    include_sensitive = True,\n",
    "                    num_samples = 0,\n",
    "                    pre_scale_features = False)\n",
    "\n",
    "data.samples.shape, data.sensitive.shape, data.labels.shape, data.adj_mtx.shape"
   ]
  },
  {
   "cell_type": "code",
   "execution_count": null,
   "id": "da4b9bff",
   "metadata": {},
   "outputs": [],
   "source": [
    "enc_params = {'in_channels': data.samples.shape[1],\n",
    "              'out_channels': data.samples.shape[1],\n",
    "              'base_model': 'gcn'}\n",
    "\n",
    "fixed_params = {'num_hidden': data.samples.shape[1],\n",
    "                'num_projection_hidden': data.samples.shape[1],\n",
    "                'num_class': 1} \n",
    "\n",
    "enc = Encoder(**enc_params)\n",
    "net = SSF(enc, **fixed_params)\n",
    "net.save_state_dict(save_path='data/model_init',\n",
    "                    name_extension=f\"init_facebook{'_sensitiveFalse' if not data.include_sensitive else ''}\",\n",
    "                    device=None)"
   ]
  },
  {
   "attachments": {},
   "cell_type": "markdown",
   "id": "54a91264",
   "metadata": {},
   "source": [
    "## Google Plus"
   ]
  },
  {
   "cell_type": "code",
   "execution_count": null,
   "id": "398e48c7",
   "metadata": {},
   "outputs": [],
   "source": [
    "from fair_graphs.datasets.graph_datasets import GooglePlusData\n",
    "\n",
    "data = GooglePlusData(sensitive_attribute = \"gender\",\n",
    "                    target_attribute = 'egocircle',\n",
    "                    include_sensitive = True,\n",
    "                    num_samples = 0,\n",
    "                    pre_scale_features = False)\n",
    "\n",
    "data.samples.shape, data.sensitive.shape, data.labels.shape, data.adj_mtx.shape"
   ]
  },
  {
   "cell_type": "code",
   "execution_count": null,
   "id": "6a342821",
   "metadata": {},
   "outputs": [],
   "source": [
    "enc_params = {'in_channels': data.samples.shape[1],\n",
    "              'out_channels': data.samples.shape[1],\n",
    "              'base_model': 'gcn'}\n",
    "\n",
    "fixed_params = {'num_hidden': data.samples.shape[1],\n",
    "                'num_projection_hidden': data.samples.shape[1],\n",
    "                'num_class': 1} \n",
    "\n",
    "enc = Encoder(**enc_params)\n",
    "net = SSF(enc, **fixed_params)\n",
    "net.save_state_dict(save_path='data/model_init',\n",
    "                    name_extension=f\"init_gplus{'_sensitiveFalse' if not data.include_sensitive else ''}\",\n",
    "                    device=None)"
   ]
  },
  {
   "attachments": {},
   "cell_type": "markdown",
   "id": "828106e6",
   "metadata": {},
   "source": [
    "# Cross Validation"
   ]
  },
  {
   "attachments": {},
   "cell_type": "markdown",
   "id": "627982d3",
   "metadata": {},
   "source": [
    "### train"
   ]
  },
  {
   "cell_type": "code",
   "execution_count": null,
   "id": "6dd49d45",
   "metadata": {},
   "outputs": [],
   "source": [
    "from sklearn.metrics import accuracy_score, roc_auc_score\n",
    "from fair_graphs.cross_validation.method import cross_validation\n",
    "from fair_graphs.metrics.scorers import SubgroupsMetricScorer, DDPMetricScorer, CounterfactualScorer"
   ]
  },
  {
   "cell_type": "code",
   "execution_count": null,
   "id": "357fda14",
   "metadata": {},
   "outputs": [],
   "source": [
    "from fair_graphs.datasets.graph_datasets import GermanData\n",
    "\n",
    "data = GermanData(sensitive_attribute = 'Gender',\n",
    "                  target_attribute = 'GoodCustomer',\n",
    "                  include_sensitive = True,\n",
    "                  num_samples = 0,\n",
    "                  pre_scale_features = False)\n",
    "data.samples.shape, data.sensitive.shape, data.labels.shape, data.adj_mtx.shape"
   ]
  },
  {
   "cell_type": "code",
   "execution_count": null,
   "id": "90ea166a",
   "metadata": {},
   "outputs": [],
   "source": [
    "eval_scorers = {\n",
    "    # utility scorers\n",
    "    'roc': SubgroupsMetricScorer(roc_auc_score),\n",
    "    \"rocSens0\": SubgroupsMetricScorer(roc_auc_score, sensitive_group=0),\n",
    "    \"rocSens1\": SubgroupsMetricScorer(roc_auc_score, sensitive_group=1),\n",
    "    \"accuracy\": SubgroupsMetricScorer(accuracy_score, need_class_predictions=True),\n",
    "    \"accuracySens0\": SubgroupsMetricScorer(accuracy_score, sensitive_group=0, need_class_predictions=True),\n",
    "    \"accuracySens1\": SubgroupsMetricScorer(accuracy_score, sensitive_group=1, need_class_predictions=True),\n",
    "    \"accuracyPos\": SubgroupsMetricScorer(accuracy_score, evaluation_class=1, need_class_predictions=True),\n",
    "    \"accuracyNeg\": SubgroupsMetricScorer(accuracy_score, evaluation_class=0, need_class_predictions=True),\n",
    "\n",
    "    # fairness scorers\n",
    "    'demographicParity': DDPMetricScorer(),\n",
    "    'demographicParityPreds': DDPMetricScorer(need_class_predictions=True),\n",
    "    'equalOpportunityPos': DDPMetricScorer(evaluation_class=1),\n",
    "    'equalOpportunityPosPreds': DDPMetricScorer(evaluation_class=1, need_class_predictions=True),\n",
    "    'equalOpportunityNeg': DDPMetricScorer(evaluation_class=0),\n",
    "    'equalOpportunityNegPreds': DDPMetricScorer(evaluation_class=0, need_class_predictions=True),\n",
    "    \"demographicParityRoc\": DDPMetricScorer(roc_auc_score),\n",
    "    \"demographicParityAccuracy\": DDPMetricScorer(accuracy_score, need_class_predictions=True),\n",
    "    \"equalOpportunityPosAccuracy\": DDPMetricScorer(accuracy_score, evaluation_class=1, need_class_predictions=True),\n",
    "    \"equalOpportunityNegAccuracy\": DDPMetricScorer(accuracy_score, evaluation_class=0, need_class_predictions=True),\n",
    "    \"counterfactual\": CounterfactualScorer(),\n",
    "    \"counterfactualPreds\": CounterfactualScorer(need_class_predictions=True),\n",
    "    \"counterfactualPos\": CounterfactualScorer(evaluation_class=1),\n",
    "    \"counterfactualPosPreds\": CounterfactualScorer(evaluation_class=1, need_class_predictions=True),\n",
    "    \"counterfactualNeg\": CounterfactualScorer(evaluation_class=0),\n",
    "    \"counterfactualNegPreds\": CounterfactualScorer(evaluation_class=0, need_class_predictions=True),\n",
    "}"
   ]
  },
  {
   "cell_type": "code",
   "execution_count": null,
   "id": "b848aaed",
   "metadata": {},
   "outputs": [],
   "source": [
    "cross_validation(data, 30, eval_scorers, scenario='inductive', activate_fae=True, f_lmbd='1')"
   ]
  },
  {
   "attachments": {},
   "cell_type": "markdown",
   "id": "67f69993",
   "metadata": {},
   "source": [
    "### evaluate"
   ]
  },
  {
   "attachments": {},
   "cell_type": "markdown",
   "id": "da1aaf0e",
   "metadata": {},
   "source": [
    "#### file preparation"
   ]
  },
  {
   "cell_type": "code",
   "execution_count": null,
   "id": "fcd5a71c",
   "metadata": {},
   "outputs": [],
   "source": [
    "import os\n",
    "import pandas as pd\n",
    "\n",
    "scenario = 'transductive' # inductive, transductive, semiinductive"
   ]
  },
  {
   "cell_type": "code",
   "execution_count": null,
   "id": "8d6a6585",
   "metadata": {},
   "outputs": [],
   "source": [
    "from fair_graphs.cross_validation.results_handler import build_multiindex\n",
    "\n",
    "build_multiindex('german', path=f\"results/{scenario}/fd_fae/\")\n",
    "build_multiindex('bail', path=f\"results/{scenario}/fd_fae/\")\n",
    "build_multiindex('credit', path=f\"results/{scenario}/fd_fae/\")\n",
    "build_multiindex('pokec', path=f\"results/{scenario}/fd_fae/\")\n",
    "#build_multiindex('facebook', path=f\"results/{scenario}/fd_fae/\")\n",
    "#build_multiindex('gplus', path=f\"results/{scenario}/fd_fae/\")"
   ]
  },
  {
   "cell_type": "code",
   "execution_count": null,
   "id": "8013a2ba",
   "metadata": {},
   "outputs": [],
   "source": [
    "from fair_graphs.cross_validation.results_handler import split_nifty_from_ours\n",
    "\n",
    "split_nifty_from_ours('german', path=f\"results/{scenario}/fd_fae/\")\n",
    "split_nifty_from_ours('bail', path=f\"results/{scenario}/fd_fae/\")\n",
    "split_nifty_from_ours('credit', path=f\"results/{scenario}/fd_fae/\")\n",
    "split_nifty_from_ours('pokec', path=f\"results/{scenario}/fd_fae/\")\n",
    "#split_nifty_from_ours('facebook', path=f\"results/{scenario}/fd_fae/\")\n",
    "#split_nifty_from_ours('gplus', path=f\"results/{scenario}/fd_fae/\")"
   ]
  },
  {
   "cell_type": "code",
   "execution_count": null,
   "id": "e5e7d7e1",
   "metadata": {},
   "outputs": [],
   "source": [
    "import numpy as np\n",
    "\n",
    "select_strats = [\n",
    "    # standard best metric\n",
    "    \"roc\", 'accuracy',\n",
    "    'demographicParity', 'equalOpportunityNeg', 'equalOpportunityPos',\n",
    "    'demographicParityPreds', 'equalOpportunityNegPreds', 'equalOpportunityPosPreds',\n",
    "    'counterfactual', 'counterfactualPos', 'counterfactualNeg',\n",
    "    'counterfactualPreds', 'counterfactualPosPreds', 'counterfactualNegPreds',\n",
    "    \n",
    "    \"demographicParityRoc\", 'demographicParityAccuracy',\n",
    "    \"equalOpportunityNegAccuracy\", \"equalOpportunityPosAccuracy\",\n",
    "]\n",
    "\n",
    "# best metric within utility percentile\n",
    "metrs = [\n",
    "    \"roc_min_demographicParity\", \"accuracy_min_demographicParity\",\n",
    "    \"roc_min_equalOpportunityNeg\", \"roc_min_equalOpportunityPos\",\n",
    "    \"accuracy_min_equalOpportunityNeg\", \"accuracy_min_equalOpportunityPos\",\n",
    "    \"roc_min_counterfactual\", \"accuracy_min_counterfactual\",\n",
    "    \"accuracy_min_counterfactualPos\", \"accuracy_min_counterfactualNeg\",\n",
    "\n",
    "    \"roc_min_demographicParityPreds\", \"accuracy_min_demographicParityPreds\",\n",
    "    \"roc_min_equalOpportunityNegPreds\", \"roc_min_equalOpportunityPosPreds\",\n",
    "    \"accuracy_min_equalOpportunityNegPreds\", \"accuracy_min_equalOpportunityPosPreds\",\n",
    "    \"roc_min_counterfactualPreds\", \"accuracy_min_counterfactualPreds\",\n",
    "    \"accuracy_min_counterfactualPosPreds\", \"accuracy_min_counterfactualNegPreds\",\n",
    "\n",
    "    \"roc_min_demographicParityRoc\", \"accuracy_min_demographicParityAccuracy\",\n",
    "    \"accuracy_min_equalOpportunityNegAccuracy\", \"accuracy_min_equalOpportunityPosAccuracy\",\n",
    "]\n",
    "\n",
    "select_strats += [f\"{p}_{m}\" for p in range(90,101,1) for m in metrs]\n",
    "\n",
    "eval_scorers = [\n",
    "    # utility scorers\n",
    "    'roc', #\"rocSens0\", \"rocSens1\",\n",
    "    \"accuracy\", \"accuracySens0\", \"accuracySens1\", \"accuracyPos\", \"accuracyNeg\",\n",
    "    # fairness scorers\n",
    "    'demographicParity', 'equalOpportunityPos', 'equalOpportunityNeg',\n",
    "    'demographicParityPreds', 'equalOpportunityPosPreds', 'equalOpportunityNegPreds',\n",
    "    \"demographicParityRoc\", \"demographicParityAccuracy\", \"equalOpportunityPosAccuracy\", \"equalOpportunityNegAccuracy\",\n",
    "    \"counterfactual\", \"counterfactualPos\", \"counterfactualNeg\",\n",
    "    \"counterfactualPreds\", \"counterfactualPosPreds\", \"counterfactualNegPreds\",\n",
    "]"
   ]
  },
  {
   "cell_type": "code",
   "execution_count": null,
   "id": "8452b68c",
   "metadata": {},
   "outputs": [],
   "source": [
    "from fair_graphs.cross_validation.results_handler import retrieve_best_res_from_hyperparams_df\n",
    "\n",
    "for d in ['german', 'bail', 'credit',\n",
    "          'pokec',# 'facebook', 'gplus',\n",
    "          ]:\n",
    "    for meth in ['ours', 'nifty']:\n",
    "        print(d, meth)\n",
    "        retrieve_best_res_from_hyperparams_df(\n",
    "            selection_strats = select_strats,\n",
    "            evaluation_scorers = eval_scorers,\n",
    "            file_name = f'{d}_simple_multi_{meth}.pickle',\n",
    "            selection_phase = 'validation',\n",
    "            file_path = os.path.join('results', scenario, 'fd_fae'),\n",
    "            verbose_selection = False)"
   ]
  },
  {
   "attachments": {},
   "cell_type": "markdown",
   "id": "4a9bdb5b",
   "metadata": {},
   "source": [
    "#### Tables"
   ]
  },
  {
   "cell_type": "code",
   "execution_count": null,
   "id": "936fa549",
   "metadata": {},
   "outputs": [],
   "source": [
    "from fair_graphs.cross_validation.visualisation_utils import print_selection_table"
   ]
  },
  {
   "cell_type": "code",
   "execution_count": null,
   "id": "fc4b04f5",
   "metadata": {},
   "outputs": [],
   "source": [
    "sel_strat = [\"roc\", 'accuracy','demographicParity', \"90_roc_min_demographicParity\", \"95_roc_min_demographicParity\", \"90_accuracy_min_demographicParity\", \"95_accuracy_min_demographicParity\",\n",
    "             #\"roc\", 'accuracy','equalOpportunityPos', \"90_roc_min_equalOpportunityPos\", \"95_roc_min_equalOpportunityPos\", \"90_accuracy_min_equalOpportunityPos\", \"95_accuracy_min_equalOpportunityPos\",\n",
    "             #\"roc\", 'accuracy','equalOpportunityNeg', \"90_roc_min_equalOpportunityNeg\", \"95_roc_min_equalOpportunityNeg\", \"90_accuracy_min_equalOpportunityNeg\", \"95_accuracy_min_equalOpportunityNeg\",\n",
    "             #\"roc\", 'accuracy','counterfactual', \"90_roc_min_counterfactual\", \"95_roc_min_counterfactual\", \"90_accuracy_min_counterfactual\", \"95_accuracy_min_counterfactual\",\n",
    "             #\"roc\", 'accuracy','demographicParityPreds', \"90_roc_min_demographicParityPreds\", \"95_roc_min_demographicParityPreds\", \"90_accuracy_min_demographicParityPreds\", \"95_accuracy_min_demographicParityPreds\",\n",
    "             #\"roc\", 'accuracy','equalOpportunityPosPreds', \"90_roc_min_equalOpportunityPosPreds\", \"95_roc_min_equalOpportunityPosPreds\", \"90_accuracy_min_equalOpportunityPosPreds\", \"95_accuracy_min_equalOpportunityPosPreds\",\n",
    "             #\"roc\", 'accuracy','equalOpportunityNegPreds', \"90_roc_min_equalOpportunityNegPreds\", \"95_roc_min_equalOpportunityNegPreds\", \"90_accuracy_min_equalOpportunityNegPreds\", \"95_accuracy_min_equalOpportunityNegPreds\",\n",
    "             #\"roc\", 'accuracy','counterfactualPreds', \"90_roc_min_counterfactualPreds\", \"95_roc_min_counterfactualPreds\", \"90_accuracy_min_counterfactualPreds\", \"95_accuracy_min_counterfactualPreds\",\n",
    "             #'accuracy', 'demographicParityAccuracy', \"90_accuracy_min_demographicParityAccuracy\", \"95_accuracy_min_demographicParityAccuracy\",\n",
    "             #'accuracy', 'equalOpportunityPosAccuracy', \"90_accuracy_min_equalOpportunityPosAccuracy\", \"95_accuracy_min_equalOpportunityPosAccuracy\",\n",
    "             #'accuracy', 'equalOpportunityNegAccuracy', \"90_accuracy_min_equalOpportunityNegAccuracy\", \"95_accuracy_min_equalOpportunityNegAccuracy\",\n",
    "             #\"roc\", 'demographicParityRoc', \"90_roc_min_demographicParityRoc\", \"95_roc_min_demographicParityRoc\",\n",
    "            ]\n",
    "\n",
    "eval_metr = ['roc', \"accuracy\", 'demographicParity',\n",
    "             #'roc', \"accuracy\", 'equalOpportunityPos',\n",
    "             #'roc', \"accuracy\", 'equalOpportunityNeg',\n",
    "             #'roc', \"accuracy\", 'counterfactual',\n",
    "             #'roc', \"accuracy\", 'demographicParityPreds',\n",
    "             #'roc', \"accuracy\", 'equalOpportunityPosPreds',\n",
    "             #'roc', \"accuracy\", 'equalOpportunityNegPreds',\n",
    "             #'roc', \"accuracy\", 'counterfactualPreds',\n",
    "             #\"accuracy\", 'demographicParityAccuracy',\n",
    "             #\"accuracy\", 'equalOpportunityPosAccuracy',\n",
    "             #\"accuracy\", 'equalOpportunityNegAccuracy',\n",
    "             #'roc', 'demographicParityRoc',\n",
    "            ]"
   ]
  },
  {
   "cell_type": "code",
   "execution_count": null,
   "id": "f16ffd85",
   "metadata": {},
   "outputs": [],
   "source": [
    "data = ['german', 'bail', 'credit', 'pokec', 'facebook', 'gplus'][3]\n",
    "s = ['transductive', 'semiinductive', 'inductive'][2]"
   ]
  },
  {
   "attachments": {},
   "cell_type": "markdown",
   "id": "9f44325b",
   "metadata": {},
   "source": [
    "##### plot"
   ]
  },
  {
   "cell_type": "code",
   "execution_count": null,
   "id": "efb71147",
   "metadata": {},
   "outputs": [],
   "source": [
    "# our\n",
    "fn = os.path.join('results', s, 'fd_fae', 'selection_strategy_results',\n",
    "                  f'{data}_simple_multi_ours.pickle')\n",
    "\n",
    "print_selection_table(full_fn = fn,\n",
    "                      phase = 'test',\n",
    "                      selection_strategies = sel_strat,\n",
    "                      eval_metrics = eval_metr)"
   ]
  },
  {
   "cell_type": "code",
   "execution_count": null,
   "id": "b9fefc8b",
   "metadata": {},
   "outputs": [],
   "source": [
    "# nifty\n",
    "fn = os.path.join('results', s, \"fd_fae\", 'selection_strategy_results',\n",
    "                  f'{data}_simple_multi_nifty.pickle')\n",
    "\n",
    "print_selection_table(full_fn = fn, \n",
    "                      phase = 'test',\n",
    "                      selection_strategies = sel_strat,\n",
    "                      eval_metrics = eval_metr)"
   ]
  },
  {
   "attachments": {},
   "cell_type": "markdown",
   "id": "666b6ba1",
   "metadata": {},
   "source": [
    "#### Plots"
   ]
  },
  {
   "cell_type": "code",
   "execution_count": null,
   "id": "5418d5c0",
   "metadata": {},
   "outputs": [],
   "source": [
    "from fair_graphs.cross_validation.visualisation_utils import (plot_cloud_distributions_acc_roc,\n",
    "                                                              plot_best_fair_wrt_util_perc_acc_roc)"
   ]
  },
  {
   "cell_type": "code",
   "execution_count": null,
   "id": "0a8b3a79",
   "metadata": {},
   "outputs": [],
   "source": [
    "data = ['german', 'bail', 'credit', 'pokec', 'facebook', 'gplus'][3]\n",
    "s = ['transductive', 'semiinductive', 'inductive'][2]\n",
    "\n",
    "pl_d = {\n",
    "    'DDP': {'fair_fn': f'{data}_simple_multi_ours_dp.pickle',\n",
    "            'nofair_fn': f'{data}_simple_multi_nifty.pickle',\n",
    "            'util_metr': 'accuracy', 'fair_metr': 'demographicParity'},\n",
    "    'DEO+': {'fair_fn': f'{data}_simple_multi_ours_eop.pickle',\n",
    "             'nofair_fn': f'{data}_simple_multi_nifty.pickle',\n",
    "             'util_metr': 'accuracy', 'fair_metr': 'equalOpportunityPos'},\n",
    "    'DEO-': {'fair_fn': f'{data}_simple_multi_ours_eon.pickle',\n",
    "             'nofair_fn': f'{data}_simple_multi_nifty.pickle',\n",
    "             'util_metr': 'accuracy', 'fair_metr': 'equalOpportunityNeg'},\n",
    "    'CF': {'fair_fn': f'{data}_simple_multi_ours_dp.pickle',\n",
    "           'nofair_fn': f'{data}_simple_multi_nifty.pickle',\n",
    "           'util_metr': 'accuracy', 'fair_metr': 'counterfactual'},\n",
    "}"
   ]
  },
  {
   "cell_type": "code",
   "execution_count": null,
   "id": "ebd154fb",
   "metadata": {},
   "outputs": [],
   "source": [
    "plot_cloud_distributions_acc_roc(pl_d,\n",
    "                                 phase = 'test',\n",
    "                                 file_path = os.path.join('results', s, 'fd_fae'),\n",
    "                                 pareto_front = True)"
   ]
  },
  {
   "cell_type": "code",
   "execution_count": null,
   "id": "68efc58c",
   "metadata": {},
   "outputs": [],
   "source": [
    "pl_d = {\n",
    "    'DDP': {'fair_fn': f'{data}_simple_multi_ours.pickle',\n",
    "            'nofair_fn': f'{data}_simple_multi_nifty.pickle',\n",
    "            'util_metr': 'accuracy', 'fair_metr': 'demographicParity'},\n",
    "    'DEO+': {'fair_fn': f'{data}_simple_multi_ours.pickle',\n",
    "             'nofair_fn': f'{data}_simple_multi_nifty.pickle',\n",
    "             'util_metr': 'accuracy', 'fair_metr': 'equalOpportunityPos'},\n",
    "    'DEO-': {'fair_fn': f'{data}_simple_multi_ours.pickle',\n",
    "             'nofair_fn': f'{data}_simple_multi_nifty.pickle',\n",
    "             'util_metr': 'accuracy', 'fair_metr': 'equalOpportunityNeg'},\n",
    "    'CF': {'fair_fn': f'{data}_simple_multi_ours.pickle',\n",
    "           'nofair_fn': f'{data}_simple_multi_nifty.pickle',\n",
    "           'util_metr': 'accuracy', 'fair_metr': 'counterfactual'},\n",
    "}\n",
    "\n",
    "plot_best_fair_wrt_util_perc_acc_roc(pl_d,\n",
    "                                     phase = 'test',\n",
    "                                     file_path = os.path.join('results', s, 'fd_fae',\n",
    "                                                              'selection_strategy_results'))"
   ]
  }
 ],
 "metadata": {
  "kernelspec": {
   "display_name": "fairgraphs",
   "language": "python",
   "name": "python3"
  },
  "language_info": {
   "codemirror_mode": {
    "name": "ipython",
    "version": 3
   },
   "file_extension": ".py",
   "mimetype": "text/x-python",
   "name": "python",
   "nbconvert_exporter": "python",
   "pygments_lexer": "ipython3",
   "version": "3.10.11"
  },
  "vscode": {
   "interpreter": {
    "hash": "944da42ad629eb5d4e1e3db5c173fd432c3d128b5d02040649b1e369ab3d2fbf"
   }
  }
 },
 "nbformat": 4,
 "nbformat_minor": 5
}
